{
 "cells": [
  {
   "cell_type": "markdown",
   "id": "57dc52d7",
   "metadata": {},
   "source": [
    "#### Example\n",
    "\n",
    "- How you get the dataset?\n",
    "- Link/Script to donwload data."
   ]
  },
  {
   "cell_type": "code",
   "execution_count": null,
   "id": "a15d7803",
   "metadata": {},
   "outputs": [],
   "source": [
    "This dataset I get it from the data.gov which is an official website of the United States government. Here is the link of the dataset: https://catalog.data.gov/dataset/motor-vehicle-registrations-dashboard-data"
   ]
  }
 ],
 "metadata": {
  "kernelspec": {
   "display_name": "Python 3 (ipykernel)",
   "language": "python",
   "name": "python3"
  },
  "language_info": {
   "codemirror_mode": {
    "name": "ipython",
    "version": 3
   },
   "file_extension": ".py",
   "mimetype": "text/x-python",
   "name": "python",
   "nbconvert_exporter": "python",
   "pygments_lexer": "ipython3",
   "version": "3.11.4"
  }
 },
 "nbformat": 4,
 "nbformat_minor": 5
}
