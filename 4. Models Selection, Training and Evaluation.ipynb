{
 "cells": [
  {
   "cell_type": "markdown",
   "id": "151edd59",
   "metadata": {},
   "source": [
    "### Example:\n",
    "- Which models use for training\n",
    "- Comparison of selected models\n",
    "- How is model performance"
   ]
  },
  {
   "cell_type": "code",
   "execution_count": 14,
   "id": "48dfb32c",
   "metadata": {},
   "outputs": [],
   "source": [
    "import pandas as pd\n",
    "\n",
    "dataframe = pd.read_csv('Motor_Vehicle_Registrations_Dashboard_data_after_cleaing.csv') \n",
    "\n",
    "\n",
    "\n"
   ]
  },
  {
   "cell_type": "code",
   "execution_count": 168,
   "metadata": {},
   "outputs": [
    {
     "name": "stdout",
     "output_type": "stream",
     "text": [
      "Accuracy: 0.9828680203045685\n",
      "Confusion Matrix:\n",
      " [[1367   15]\n",
      " [  12  182]]\n",
      "Classification Report:\n",
      "               precision    recall  f1-score   support\n",
      "\n",
      "        Auto       0.99      0.99      0.99      1382\n",
      "       Truck       0.92      0.94      0.93       194\n",
      "\n",
      "    accuracy                           0.98      1576\n",
      "   macro avg       0.96      0.96      0.96      1576\n",
      "weighted avg       0.98      0.98      0.98      1576\n",
      "\n"
     ]
    }
   ],
   "source": [
    "from sklearn.model_selection import train_test_split\n",
    "from sklearn.tree import DecisionTreeClassifier\n",
    "from sklearn.preprocessing import LabelEncoder\n",
    "from sklearn.metrics import accuracy_score, confusion_matrix, classification_report, roc_auc_score\n",
    "# # Convert 'state' to numerical form\n",
    "le = LabelEncoder()\n",
    "dataframe['state'] = le.fit_transform(dataframe['state'])\n",
    "\n",
    "# Define features and target\n",
    "# Create a new column for the type of car with the highest number\n",
    "dataframe['import_car_type'] = dataframe[['Auto', 'Bus', 'Truck', 'Motorcycle']].idxmax(axis=1)\n",
    "\n",
    "# Define features and target\n",
    "X = dataframe[['year', 'state']]\n",
    "y = dataframe['import_car_type']\n",
    "\n",
    "# Split data\n",
    "X_train, X_test, y_train, y_test = train_test_split(X, y, test_size=0.3, random_state=42)\n",
    "\n",
    "# Create and train model\n",
    "model = DecisionTreeClassifier(random_state=42)\n",
    "model.fit(X_train, y_train)\n",
    "\n",
    "# Make predictions\n",
    "predictions = model.predict(X_test)\n",
    "\n",
    "# Evaluate model\n",
    "# Calculate metrics\n",
    "accuracy = accuracy_score(y_test, predictions)\n",
    "confusion = confusion_matrix(y_test, predictions)\n",
    "report = classification_report(y_test, predictions)\n",
    "\n",
    "print(f'Accuracy: {accuracy}')\n",
    "print(f'Confusion Matrix:\\n {confusion}')\n",
    "print(f'Classification Report:\\n {report}')"
   ]
  }
 ],
 "metadata": {
  "kernelspec": {
   "display_name": "Python 3 (ipykernel)",
   "language": "python",
   "name": "python3"
  },
  "language_info": {
   "codemirror_mode": {
    "name": "ipython",
    "version": 3
   },
   "file_extension": ".py",
   "mimetype": "text/x-python",
   "name": "python",
   "nbconvert_exporter": "python",
   "pygments_lexer": "ipython3",
   "version": "3.11.4"
  }
 },
 "nbformat": 4,
 "nbformat_minor": 5
}
