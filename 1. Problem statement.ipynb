{
 "cells": [
  {
   "cell_type": "markdown",
   "id": "aa5ef349",
   "metadata": {},
   "source": [
    "### Main topics\n",
    "- Agriculture\n",
    "- Tourism\n",
    "- Factory(Textile, ...)"
   ]
  },
  {
   "cell_type": "markdown",
   "id": "9469874a",
   "metadata": {},
   "source": [
    "### Describe what questions do you try to solve?"
   ]
  },
  {
   "cell_type": "code",
   "execution_count": null,
   "id": "21147729",
   "metadata": {},
   "outputs": [],
   "source": []
  }
 ],
 "metadata": {
  "kernelspec": {
   "display_name": "Python 3 (ipykernel)",
   "language": "python",
   "name": "python3"
  },
  "language_info": {
   "codemirror_mode": {
    "name": "ipython",
    "version": 3
   },
   "file_extension": ".py",
   "mimetype": "text/x-python",
   "name": "python",
   "nbconvert_exporter": "python",
   "pygments_lexer": "ipython3",
   "version": "3.11.4"
  }
 },
 "nbformat": 4,
 "nbformat_minor": 5
}
